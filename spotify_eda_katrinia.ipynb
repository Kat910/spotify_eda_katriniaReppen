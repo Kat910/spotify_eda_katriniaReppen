{
 "cells": [
  {
   "cell_type": "markdown",
   "id": "192c4646",
   "metadata": {},
   "source": [
    "# EDA Walkthrough"
   ]
  },
  {
   "cell_type": "code",
   "execution_count": null,
   "id": "77ce60fc",
   "metadata": {},
   "outputs": [],
   "source": [
    "import pandas as pd \n",
    "import matplotlib.pyplot as plt \n",
    "import numpy as np "
   ]
  },
  {
   "cell_type": "code",
   "execution_count": null,
   "id": "2a3f1e9c",
   "metadata": {},
   "outputs": [],
   "source": [
    "spotify_df = pd.read_csv(\"dataset.csv\")\n",
    "spotify_df.head()\n"
   ]
  }
 ],
 "metadata": {
  "kernelspec": {
   "display_name": "Python 3",
   "language": "python",
   "name": "python3"
  },
  "language_info": {
   "codemirror_mode": {
    "name": "ipython",
    "version": 3
   },
   "file_extension": ".py",
   "mimetype": "text/x-python",
   "name": "python",
   "nbconvert_exporter": "python",
   "pygments_lexer": "ipython3",
   "version": "3.13.7"
  }
 },
 "nbformat": 4,
 "nbformat_minor": 5
}
